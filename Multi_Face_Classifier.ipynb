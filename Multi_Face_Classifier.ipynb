{
 "cells": [
  {
   "cell_type": "code",
   "execution_count": 1,
   "metadata": {},
   "outputs": [],
   "source": [
    "from tensorflow.keras.preprocessing.image import ImageDataGenerator\n",
    "import tensorflow as tf\n",
    "import numpy as np"
   ]
  },
  {
   "cell_type": "code",
   "execution_count": 2,
   "metadata": {},
   "outputs": [],
   "source": [
    "train_datagen = ImageDataGenerator(rescale=1.0/255.0)\n",
    "test_datagen = ImageDataGenerator(rescale=1.0/255.0)"
   ]
  },
  {
   "cell_type": "code",
   "execution_count": 8,
   "metadata": {},
   "outputs": [
    {
     "name": "stdout",
     "output_type": "stream",
     "text": [
      "Found 660 images belonging to 6 classes.\n",
      "Found 120 images belonging to 6 classes.\n"
     ]
    }
   ],
   "source": [
    "\n",
    "train_data = train_datagen.flow_from_directory(\n",
    "    \"./face_data/Train\",\n",
    "    target_size=(150,150),\n",
    "    color_mode=\"grayscale\",\n",
    "    batch_size=20,\n",
    "    class_mode='categorical'\n",
    "\n",
    ")\n",
    "test_data =test_datagen.flow_from_directory(\n",
    "    \"./face_data/Test\",\n",
    "    target_size=(150,150),\n",
    "    color_mode=\"grayscale\",\n",
    "    batch_size=20,\n",
    "    class_mode='categorical'\n",
    "\n",
    ")"
   ]
  },
  {
   "cell_type": "code",
   "execution_count": 9,
   "metadata": {},
   "outputs": [],
   "source": [
    "\n",
    "from tensorflow.keras.models import Sequential\n",
    "from tensorflow.keras.layers import Dense\n",
    "from tensorflow.keras.layers import Flatten\n",
    "from tensorflow.keras.optimizers import SGD, Adam,RMSprop"
   ]
  },
  {
   "cell_type": "code",
   "execution_count": 10,
   "metadata": {},
   "outputs": [],
   "source": [
    "\n",
    "model = Sequential()\n",
    "model.add(Flatten())\n",
    "model.add(Dense(512, activation='relu'))\n",
    "model.add(Dense(6, activation='softmax'))"
   ]
  },
  {
   "cell_type": "code",
   "execution_count": 11,
   "metadata": {},
   "outputs": [],
   "source": [
    "model.compile(loss='categorical_crossentropy',\n",
    "              optimizer=Adam(lr=1e-4),\n",
    "              metrics=['acc'])"
   ]
  },
  {
   "cell_type": "code",
   "execution_count": 12,
   "metadata": {},
   "outputs": [
    {
     "name": "stdout",
     "output_type": "stream",
     "text": [
      "Epoch 1/15\n",
      "32/33 [============================>.] - ETA: 0s - loss: 2.3037 - acc: 0.1755Epoch 1/15\n",
      "33/33 [==============================] - 5s 148ms/step - loss: 2.2776 - acc: 0.1803 - val_loss: 1.6533 - val_acc: 0.3750\n",
      "Epoch 2/15\n",
      "32/33 [============================>.] - ETA: 0s - loss: 1.4518 - acc: 0.4618Epoch 1/15\n",
      "33/33 [==============================] - 4s 109ms/step - loss: 1.4517 - acc: 0.4612 - val_loss: 1.5833 - val_acc: 0.3917\n",
      "Epoch 3/15\n",
      "32/33 [============================>.] - ETA: 0s - loss: 1.2998 - acc: 0.5215Epoch 1/15\n",
      "33/33 [==============================] - 4s 111ms/step - loss: 1.3001 - acc: 0.5217 - val_loss: 1.4456 - val_acc: 0.4667\n",
      "Epoch 4/15\n",
      "32/33 [============================>.] - ETA: 0s - loss: 1.2428 - acc: 0.5487Epoch 1/15\n",
      "33/33 [==============================] - 4s 115ms/step - loss: 1.2381 - acc: 0.5478 - val_loss: 1.5221 - val_acc: 0.4750\n",
      "Epoch 5/15\n",
      "32/33 [============================>.] - ETA: 0s - loss: 1.1053 - acc: 0.6153Epoch 1/15\n",
      "33/33 [==============================] - 4s 111ms/step - loss: 1.1115 - acc: 0.6161 - val_loss: 1.5043 - val_acc: 0.4917\n",
      "Epoch 6/15\n",
      "32/33 [============================>.] - ETA: 0s - loss: 1.1006 - acc: 0.6102Epoch 1/15\n",
      "33/33 [==============================] - 4s 129ms/step - loss: 1.0925 - acc: 0.6105 - val_loss: 1.3838 - val_acc: 0.5417\n",
      "Epoch 7/15\n",
      "32/33 [============================>.] - ETA: 0s - loss: 1.0173 - acc: 0.6354Epoch 1/15\n",
      "33/33 [==============================] - 4s 122ms/step - loss: 1.0113 - acc: 0.6356 - val_loss: 1.3629 - val_acc: 0.5167\n",
      "Epoch 8/15\n",
      "32/33 [============================>.] - ETA: 0s - loss: 0.9372 - acc: 0.6827Epoch 1/15\n",
      "33/33 [==============================] - 4s 113ms/step - loss: 0.9421 - acc: 0.6817 - val_loss: 1.3909 - val_acc: 0.4917\n",
      "Epoch 9/15\n",
      "32/33 [============================>.] - ETA: 0s - loss: 0.8609 - acc: 0.7498Epoch 1/15\n",
      "33/33 [==============================] - 4s 121ms/step - loss: 0.8654 - acc: 0.7483 - val_loss: 1.3914 - val_acc: 0.5333\n",
      "Epoch 10/15\n",
      "32/33 [============================>.] - ETA: 0s - loss: 0.8709 - acc: 0.6965Epoch 1/15\n",
      "33/33 [==============================] - 4s 123ms/step - loss: 0.8673 - acc: 0.6972 - val_loss: 1.4003 - val_acc: 0.4917\n",
      "Epoch 11/15\n",
      "32/33 [============================>.] - ETA: 0s - loss: 0.7840 - acc: 0.7491Epoch 1/15\n",
      "33/33 [==============================] - 4s 116ms/step - loss: 0.7855 - acc: 0.7487 - val_loss: 1.3525 - val_acc: 0.5083\n",
      "Epoch 12/15\n",
      "32/33 [============================>.] - ETA: 0s - loss: 0.7649 - acc: 0.7469Epoch 1/15\n",
      "33/33 [==============================] - 4s 113ms/step - loss: 0.7590 - acc: 0.7466 - val_loss: 1.4892 - val_acc: 0.4833\n",
      "Epoch 13/15\n",
      "32/33 [============================>.] - ETA: 0s - loss: 0.8046 - acc: 0.7312Epoch 1/15\n",
      "33/33 [==============================] - 4s 114ms/step - loss: 0.7963 - acc: 0.7318 - val_loss: 1.4793 - val_acc: 0.4917\n",
      "Epoch 14/15\n",
      "32/33 [============================>.] - ETA: 0s - loss: 0.7294 - acc: 0.8009Epoch 1/15\n",
      "33/33 [==============================] - 4s 118ms/step - loss: 0.7453 - acc: 0.7987 - val_loss: 1.5301 - val_acc: 0.5083\n",
      "Epoch 15/15\n",
      "32/33 [============================>.] - ETA: 0s - loss: 0.6702 - acc: 0.7979Epoch 1/15\n",
      "33/33 [==============================] - 4s 116ms/step - loss: 0.6687 - acc: 0.7978 - val_loss: 1.4173 - val_acc: 0.5000\n"
     ]
    }
   ],
   "source": [
    "hist = model.fit_generator(train_data,epochs=15,verbose=1,validation_data = test_data)"
   ]
  },
  {
   "cell_type": "code",
   "execution_count": 15,
   "metadata": {},
   "outputs": [],
   "source": [
    "predicted=model.predict(test_data)"
   ]
  },
  {
   "cell_type": "code",
   "execution_count": 22,
   "metadata": {},
   "outputs": [
    {
     "data": {
      "image/png": "[encoded data removed]",
      "text/plain": [
       "<Figure size 432x288 with 1 Axes>"
      ]
     },
     "metadata": {
      "needs_background": "light"
     },
     "output_type": "display_data"
    },
    {
     "data": {
      "image/png": "[encoded data removed]",
      "text/plain": [
       "<Figure size 432x288 with 1 Axes>"
      ]
     },
     "metadata": {
      "needs_background": "light"
     },
     "output_type": "display_data"
    }
   ],
   "source": [
    "import matplotlib.pyplot as plt\n",
    "acc = hist.history['acc']\n",
    "val_acc = hist.history['val_acc']\n",
    "loss = hist.history['loss']\n",
    "val_loss = hist.history['val_loss']\n",
    "\n",
    "epochs = range(len(acc))\n",
    "\n",
    "plt.plot(epochs, acc, 'bo', label='Training accuracy')\n",
    "plt.plot(epochs, val_acc, 'b', label='Validation accuracy')\n",
    "plt.title('Training and validation accuracy')\n",
    "\n",
    "plt.figure()\n",
    "\n",
    "plt.plot(epochs, loss, 'bo', label='Training Loss')\n",
    "plt.plot(epochs, val_loss, 'b', label='Validation Loss')\n",
    "plt.title('Training and validation loss')\n",
    "plt.legend()\n",
    "\n",
    "plt.show()"
   ]
  },
  {
   "cell_type": "code",
   "execution_count": 21,
   "metadata": {},
   "outputs": [
    {
     "data": {
      "text/plain": [
       "5"
      ]
     },
     "execution_count": 21,
     "metadata": {},
     "output_type": "execute_result"
    }
   ],
   "source": []
  },
  {
   "cell_type": "code",
   "execution_count": null,
   "metadata": {},
   "outputs": [],
   "source": []
  }
 ],
 "metadata": {
  "kernelspec": {
   "display_name": "Python 3",
   "language": "python",
   "name": "python3"
  },
  "language_info": {
   "codemirror_mode": {
    "name": "ipython",
    "version": 3
   },
   "file_extension": ".py",
   "mimetype": "text/x-python",
   "name": "python",
   "nbconvert_exporter": "python",
   "pygments_lexer": "ipython3",
   "version": "3.7.5"
  }
 },
 "nbformat": 4,
 "nbformat_minor": 2
}
