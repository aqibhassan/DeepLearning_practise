{
 "cells": [
  {
   "cell_type": "code",
   "execution_count": 12,
   "metadata": {},
   "outputs": [],
   "source": [
    "from tensorflow.keras.preprocessing.image import ImageDataGenerator\n",
    "import numpy as np"
   ]
  },
  {
   "cell_type": "code",
   "execution_count": 42,
   "metadata": {},
   "outputs": [],
   "source": [
    "train_datagen = ImageDataGenerator(rescale=1.0/255.0)"
   ]
  },
  {
   "cell_type": "code",
   "execution_count": 43,
   "metadata": {},
   "outputs": [
    {
     "name": "stdout",
     "output_type": "stream",
     "text": [
      "Found 8005 images belonging to 2 classes.\n"
     ]
    }
   ],
   "source": [
    "\n",
    "train_data = train_datagen.flow_from_directory(\n",
    "    \"./CatsVSDogs/training_set\",\n",
    "    target_size=(150,150),\n",
    "    batch_size=20,\n",
    "    class_mode='binary'\n",
    "\n",
    ")"
   ]
  },
  {
   "cell_type": "code",
   "execution_count": 44,
   "metadata": {},
   "outputs": [],
   "source": [
    "\n",
    "from tensorflow.keras.models import Sequential\n",
    "from tensorflow.keras.layers import Dense\n",
    "from tensorflow.keras.layers import Flatten\n",
    "from tensorflow.keras.optimizers import SGD, Adam,RMSprop"
   ]
  },
  {
   "cell_type": "code",
   "execution_count": 45,
   "metadata": {},
   "outputs": [],
   "source": [
    "\n",
    "model = Sequential()\n",
    "model.add(Flatten())\n",
    "model.add(Dense(512, activation='relu'))\n",
    "model.add(Dense(1, activation='sigmoid'))"
   ]
  },
  {
   "cell_type": "code",
   "execution_count": 49,
   "metadata": {},
   "outputs": [],
   "source": [
    "\n",
    "model.compile(loss='binary_crossentropy',\n",
    "              optimizer=SGD(lr=0.0001),\n",
    "              metrics=['acc'])"
   ]
  },
  {
   "cell_type": "code",
   "execution_count": 54,
   "metadata": {},
   "outputs": [
    {
     "name": "stdout",
     "output_type": "stream",
     "text": [
      "Found 10 images belonging to 2 classes.\n"
     ]
    }
   ],
   "source": [
    "test_data = train_datagen.flow_from_directory(\n",
    "    \"./CatsVSDogs/test_set\",\n",
    "    target_size=(150,150),\n",
    "    batch_size=20,\n",
    "    class_mode='binary'\n",
    "\n",
    ")"
   ]
  },
  {
   "cell_type": "code",
   "execution_count": 59,
   "metadata": {},
   "outputs": [
    {
     "name": "stdout",
     "output_type": "stream",
     "text": [
      "Epoch 1/15\n",
      "400/401 [============================>.] - ETA: 0s - loss: 0.6542 - acc: 0.6187- ETA: 6s - loss:Epoch 1/15\n",
      "401/401 [==============================] - 109s 273ms/step - loss: 0.6544 - acc: 0.6181 - val_loss: 0.7982 - val_acc: 0.2000\n",
      "Epoch 2/15\n",
      "400/401 [============================>.] - ETA: 0s - loss: 0.6494 - acc: 0.6267Epoch 1/15\n",
      "401/401 [==============================] - 70s 175ms/step - loss: 0.6494 - acc: 0.6264 - val_loss: 0.7949 - val_acc: 0.2000\n",
      "Epoch 3/15\n",
      "400/401 [============================>.] - ETA: 0s - loss: 0.6450 - acc: 0.6276Epoch 1/15\n",
      "401/401 [==============================] - 71s 177ms/step - loss: 0.6451 - acc: 0.6277 - val_loss: 0.8278 - val_acc: 0.3000\n",
      "Epoch 4/15\n",
      "400/401 [============================>.] - ETA: 0s - loss: 0.6418 - acc: 0.6403Epoch 1/15\n",
      "401/401 [==============================] - 72s 179ms/step - loss: 0.6418 - acc: 0.6405 - val_loss: 0.8532 - val_acc: 0.2000\n",
      "Epoch 5/15\n",
      "400/401 [============================>.] - ETA: 0s - loss: 0.6387 - acc: 0.6366Epoch 1/15\n",
      "401/401 [==============================] - 75s 187ms/step - loss: 0.6386 - acc: 0.6367 - val_loss: 0.8128 - val_acc: 0.3000\n",
      "Epoch 6/15\n",
      "400/401 [============================>.] - ETA: 0s - loss: 0.6352 - acc: 0.6437Epoch 1/15\n",
      "401/401 [==============================] - 72s 180ms/step - loss: 0.6352 - acc: 0.6437 - val_loss: 0.8033 - val_acc: 0.4000\n",
      "Epoch 7/15\n",
      "400/401 [============================>.] - ETA: 0s - loss: 0.6337 - acc: 0.6458Epoch 1/15\n",
      "401/401 [==============================] - 72s 179ms/step - loss: 0.6336 - acc: 0.6460 - val_loss: 0.8175 - val_acc: 0.2000\n",
      "Epoch 8/15\n",
      "400/401 [============================>.] - ETA: 0s - loss: 0.6298 - acc: 0.6493- ETA: 3s - loss: 0Epoch 1/15\n",
      "401/401 [==============================] - 72s 180ms/step - loss: 0.6301 - acc: 0.6486 - val_loss: 0.7942 - val_acc: 0.2000\n",
      "Epoch 9/15\n",
      "400/401 [============================>.] - ETA: 0s - loss: 0.6278 - acc: 0.6511Epoch 1/15\n",
      "401/401 [==============================] - 75s 187ms/step - loss: 0.6279 - acc: 0.6510 - val_loss: 0.8573 - val_acc: 0.2000\n",
      "Epoch 10/15\n",
      "400/401 [============================>.] - ETA: 0s - loss: 0.6256 - acc: 0.6602Epoch 1/15\n",
      "401/401 [==============================] - 71s 176ms/step - loss: 0.6254 - acc: 0.6605 - val_loss: 0.8616 - val_acc: 0.2000\n",
      "Epoch 11/15\n",
      "400/401 [============================>.] - ETA: 0s - loss: 0.6232 - acc: 0.6607- ETAEpoch 1/15\n",
      "401/401 [==============================] - 71s 177ms/step - loss: 0.6234 - acc: 0.6602 - val_loss: 0.8147 - val_acc: 0.2000\n",
      "Epoch 12/15\n",
      "400/401 [============================>.] - ETA: 0s - loss: 0.6204 - acc: 0.6596- ETA:Epoch 1/15\n",
      "401/401 [==============================] - 71s 177ms/step - loss: 0.6201 - acc: 0.6598 - val_loss: 0.8252 - val_acc: 0.5000\n",
      "Epoch 13/15\n",
      "400/401 [============================>.] - ETA: 0s - loss: 0.6179 - acc: 0.6609Epoch 1/15\n",
      "401/401 [==============================] - 72s 180ms/step - loss: 0.6179 - acc: 0.6607 - val_loss: 0.8193 - val_acc: 0.2000\n",
      "Epoch 14/15\n",
      "400/401 [============================>.] - ETA: 0s - loss: 0.6177 - acc: 0.6662Epoch 1/15\n",
      "401/401 [==============================] - 72s 179ms/step - loss: 0.6176 - acc: 0.6663 - val_loss: 0.8038 - val_acc: 0.3000\n",
      "Epoch 15/15\n",
      "400/401 [============================>.] - ETA: 0s - loss: 0.6143 - acc: 0.6689- ETA: 4s - losEpoch 1/15\n",
      "401/401 [==============================] - 71s 177ms/step - loss: 0.6144 - acc: 0.6690 - val_loss: 0.8319 - val_acc: 0.2000\n"
     ]
    }
   ],
   "source": [
    "hist = model.fit_generator(train_data,epochs=15,verbose=1,validation_data = test_data)\n",
    "# hist"
   ]
  },
  {
   "cell_type": "code",
   "execution_count": 51,
   "metadata": {},
   "outputs": [
    {
     "name": "stdout",
     "output_type": "stream",
     "text": [
      "Found 10 images belonging to 2 classes.\n"
     ]
    }
   ],
   "source": []
  },
  {
   "cell_type": "code",
   "execution_count": 60,
   "metadata": {},
   "outputs": [
    {
     "data": {
      "text/plain": [
       "array([[0.53349644],\n",
       "       [0.34269372],\n",
       "       [0.6300538 ],\n",
       "       [0.48340943],\n",
       "       [0.6573515 ],\n",
       "       [0.4376546 ],\n",
       "       [0.52257437],\n",
       "       [0.19155851],\n",
       "       [0.37136546],\n",
       "       [0.4548955 ]], dtype=float32)"
      ]
     },
     "execution_count": 60,
     "metadata": {},
     "output_type": "execute_result"
    }
   ],
   "source": [
    "\n",
    "model.predict(test_data)\n"
   ]
  },
  {
   "cell_type": "code",
   "execution_count": 61,
   "metadata": {},
   "outputs": [
    {
     "data": {
      "text/plain": [
       "array([['Dog'],\n",
       "       ['Cat'],\n",
       "       ['Dog'],\n",
       "       ['Cat'],\n",
       "       ['Dog'],\n",
       "       ['Cat'],\n",
       "       ['Dog'],\n",
       "       ['Cat'],\n",
       "       ['Cat'],\n",
       "       ['Cat']], dtype='<U3')"
      ]
     },
     "execution_count": 61,
     "metadata": {},
     "output_type": "execute_result"
    }
   ],
   "source": [
    "np.where(model.predict(test_data)>0.5,\"Dog\",\"Cat\")"
   ]
  },
  {
   "cell_type": "code",
   "execution_count": null,
   "metadata": {},
   "outputs": [],
   "source": []
  },
  {
   "cell_type": "code",
   "execution_count": null,
   "metadata": {},
   "outputs": [],
   "source": []
  },
  {
   "cell_type": "code",
   "execution_count": null,
   "metadata": {},
   "outputs": [],
   "source": []
  }
 ],
 "metadata": {
  "kernelspec": {
   "display_name": "Python 3",
   "language": "python",
   "name": "python3"
  },
  "language_info": {
   "codemirror_mode": {
    "name": "ipython",
    "version": 3
   },
   "file_extension": ".py",
   "mimetype": "text/x-python",
   "name": "python",
   "nbconvert_exporter": "python",
   "pygments_lexer": "ipython3",
   "version": "3.7.5"
  }
 },
 "nbformat": 4,
 "nbformat_minor": 2
}
