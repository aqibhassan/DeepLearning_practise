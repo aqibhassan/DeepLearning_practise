{
 "cells": [
  {
   "cell_type": "code",
   "execution_count": 36,
   "metadata": {},
   "outputs": [],
   "source": [
    "from tensorflow.keras.preprocessing.image import ImageDataGenerator\n",
    "import tensorflow as tf\n",
    "import numpy as np"
   ]
  },
  {
   "cell_type": "code",
   "execution_count": 11,
   "metadata": {},
   "outputs": [],
   "source": [
    "train_datagen = ImageDataGenerator(rescale=1.0/255.0)\n",
    "test_datagen = ImageDataGenerator(rescale=1.0/255.0)"
   ]
  },
  {
   "cell_type": "code",
   "execution_count": 26,
   "metadata": {},
   "outputs": [
    {
     "name": "stdout",
     "output_type": "stream",
     "text": [
      "Found 220 images belonging to 2 classes.\n",
      "Found 40 images belonging to 2 classes.\n"
     ]
    }
   ],
   "source": [
    "\n",
    "train_data = train_datagen.flow_from_directory(\n",
    "    \"./face_data/Train\",\n",
    "    target_size=(150,150),\n",
    "    color_mode=\"grayscale\",\n",
    "    batch_size=20,\n",
    "    class_mode='binary'\n",
    "\n",
    ")\n",
    "test_data =test_datagen.flow_from_directory(\n",
    "    \"./face_data/Test\",\n",
    "    target_size=(150,150),\n",
    "    color_mode=\"grayscale\",\n",
    "    batch_size=20,\n",
    "    class_mode='binary'\n",
    "\n",
    ")"
   ]
  },
  {
   "cell_type": "code",
   "execution_count": 27,
   "metadata": {},
   "outputs": [],
   "source": [
    "\n",
    "from tensorflow.keras.models import Sequential\n",
    "from tensorflow.keras.layers import Dense\n",
    "from tensorflow.keras.layers import Flatten\n",
    "from tensorflow.keras.optimizers import SGD, Adam,RMSprop"
   ]
  },
  {
   "cell_type": "code",
   "execution_count": 28,
   "metadata": {},
   "outputs": [],
   "source": [
    "\n",
    "model = Sequential()\n",
    "model.add(Flatten())\n",
    "model.add(Dense(512, activation='relu'))\n",
    "model.add(Dense(1, activation='sigmoid'))"
   ]
  },
  {
   "cell_type": "code",
   "execution_count": 29,
   "metadata": {},
   "outputs": [],
   "source": [
    "model.compile(loss='binary_crossentropy',\n",
    "              optimizer=RMSprop(lr=1e-4),\n",
    "              metrics=['acc'])"
   ]
  },
  {
   "cell_type": "code",
   "execution_count": null,
   "metadata": {},
   "outputs": [],
   "source": []
  },
  {
   "cell_type": "code",
   "execution_count": 30,
   "metadata": {},
   "outputs": [
    {
     "name": "stdout",
     "output_type": "stream",
     "text": [
      "Epoch 1/15\n",
      "10/11 [==========================>...] - ETA: 0s - loss: 2.8644 - acc: 0.5995Epoch 1/15\n",
      "11/11 [==============================] - 5s 445ms/step - loss: 2.6423 - acc: 0.6056 - val_loss: 0.8474 - val_acc: 0.6500\n",
      "Epoch 2/15\n",
      "10/11 [==========================>...] - ETA: 0s - loss: 1.1954 - acc: 0.5908Epoch 1/15\n",
      "11/11 [==============================] - 3s 276ms/step - loss: 1.1407 - acc: 0.5961 - val_loss: 1.3330 - val_acc: 0.6000\n",
      "Epoch 3/15\n",
      "10/11 [==========================>...] - ETA: 0s - loss: 0.8126 - acc: 0.6452Epoch 1/15\n",
      "11/11 [==============================] - 3s 292ms/step - loss: 0.7540 - acc: 0.6596 - val_loss: 0.4277 - val_acc: 0.7500\n",
      "Epoch 4/15\n",
      "10/11 [==========================>...] - ETA: 0s - loss: 0.6487 - acc: 0.7760Epoch 1/15\n",
      "11/11 [==============================] - 3s 250ms/step - loss: 0.6024 - acc: 0.7732 - val_loss: 0.4957 - val_acc: 0.7750\n",
      "Epoch 5/15\n",
      "10/11 [==========================>...] - ETA: 0s - loss: 0.7059 - acc: 0.8357Epoch 1/15\n",
      "11/11 [==============================] - 3s 249ms/step - loss: 0.6586 - acc: 0.8252 - val_loss: 0.3844 - val_acc: 0.7750\n",
      "Epoch 6/15\n",
      "10/11 [==========================>...] - ETA: 0s - loss: 0.6296 - acc: 0.8551Epoch 1/15\n",
      "11/11 [==============================] - 3s 256ms/step - loss: 0.6398 - acc: 0.8452 - val_loss: 0.5832 - val_acc: 0.7500\n",
      "Epoch 7/15\n",
      "10/11 [==========================>...] - ETA: 0s - loss: 0.2390 - acc: 0.8944Epoch 1/15\n",
      "11/11 [==============================] - 3s 246ms/step - loss: 0.2366 - acc: 0.8945 - val_loss: 0.9926 - val_acc: 0.6750\n",
      "Epoch 8/15\n",
      "10/11 [==========================>...] - ETA: 0s - loss: 0.3375 - acc: 0.8257Epoch 1/15\n",
      "11/11 [==============================] - 3s 249ms/step - loss: 0.5943 - acc: 0.8230 - val_loss: 2.2654 - val_acc: 0.5250\n",
      "Epoch 9/15\n",
      "10/11 [==========================>...] - ETA: 0s - loss: 0.5363 - acc: 0.7262Epoch 1/15\n",
      "11/11 [==============================] - 3s 267ms/step - loss: 0.4923 - acc: 0.7476 - val_loss: 0.4452 - val_acc: 0.8250\n",
      "Epoch 10/15\n",
      "10/11 [==========================>...] - ETA: 0s - loss: 0.1775 - acc: 0.9372Epoch 1/15\n",
      "11/11 [==============================] - 3s 251ms/step - loss: 0.1677 - acc: 0.9371 - val_loss: 0.3372 - val_acc: 0.8250\n",
      "Epoch 11/15\n",
      "10/11 [==========================>...] - ETA: 0s - loss: 0.5808 - acc: 0.8476Epoch 1/15\n",
      "11/11 [==============================] - 3s 249ms/step - loss: 0.5304 - acc: 0.8458 - val_loss: 0.3528 - val_acc: 0.8000\n",
      "Epoch 12/15\n",
      "10/11 [==========================>...] - ETA: 0s - loss: 0.1544 - acc: 0.9537Epoch 1/15\n",
      "11/11 [==============================] - 3s 276ms/step - loss: 0.1666 - acc: 0.9508 - val_loss: 1.6278 - val_acc: 0.5750\n",
      "Epoch 13/15\n",
      "10/11 [==========================>...] - ETA: 0s - loss: 0.5401 - acc: 0.7634Epoch 1/15\n",
      "11/11 [==============================] - 3s 259ms/step - loss: 0.4933 - acc: 0.7748 - val_loss: 0.4708 - val_acc: 0.8000\n",
      "Epoch 14/15\n",
      "10/11 [==========================>...] - ETA: 0s - loss: 0.3992 - acc: 0.9340Epoch 1/15\n",
      "11/11 [==============================] - 3s 268ms/step - loss: 0.3831 - acc: 0.9208 - val_loss: 0.4081 - val_acc: 0.8250\n",
      "Epoch 15/15\n",
      "10/11 [==========================>...] - ETA: 0s - loss: 0.0825 - acc: 0.9881Epoch 1/15\n",
      "11/11 [==============================] - 3s 291ms/step - loss: 0.0838 - acc: 0.9870 - val_loss: 0.5065 - val_acc: 0.8500\n"
     ]
    }
   ],
   "source": [
    "hist = model.fit_generator(train_data,epochs=15,verbose=1,validation_data = test_data)\n",
    "# hist"
   ]
  },
  {
   "cell_type": "code",
   "execution_count": null,
   "metadata": {},
   "outputs": [],
   "source": []
  },
  {
   "cell_type": "code",
   "execution_count": 31,
   "metadata": {},
   "outputs": [
    {
     "data": {
      "text/plain": [
       "array([[9.9978328e-01],\n",
       "       [9.9998903e-01],\n",
       "       [9.9868089e-01],\n",
       "       [9.9260646e-01],\n",
       "       [9.6553117e-01],\n",
       "       [2.0656234e-01],\n",
       "       [9.9989402e-01],\n",
       "       [6.6227007e-01],\n",
       "       [9.9851960e-01],\n",
       "       [8.7394118e-01],\n",
       "       [9.9926442e-01],\n",
       "       [3.8617849e-04],\n",
       "       [8.1007361e-01],\n",
       "       [9.9865413e-01],\n",
       "       [9.4853151e-01],\n",
       "       [9.8789722e-01],\n",
       "       [3.8540006e-02],\n",
       "       [9.9625862e-01],\n",
       "       [2.3163232e-01],\n",
       "       [9.9999976e-01],\n",
       "       [8.4199464e-01],\n",
       "       [7.5021130e-01],\n",
       "       [3.3917272e-01],\n",
       "       [1.2765080e-02],\n",
       "       [2.2047102e-02],\n",
       "       [1.7715991e-03],\n",
       "       [4.0698782e-01],\n",
       "       [9.9857432e-01],\n",
       "       [9.8679316e-01],\n",
       "       [9.9597323e-01],\n",
       "       [9.6999174e-01],\n",
       "       [9.8504812e-02],\n",
       "       [5.6498641e-01],\n",
       "       [4.1059238e-01],\n",
       "       [5.3597420e-02],\n",
       "       [5.2282572e-02],\n",
       "       [9.9993420e-01],\n",
       "       [6.4907968e-03],\n",
       "       [9.9494755e-01],\n",
       "       [9.9647665e-01]], dtype=float32)"
      ]
     },
     "execution_count": 31,
     "metadata": {},
     "output_type": "execute_result"
    }
   ],
   "source": [
    "\n",
    "model.predict(test_data)\n"
   ]
  },
  {
   "cell_type": "code",
   "execution_count": 44,
   "metadata": {},
   "outputs": [
    {
     "data": {
      "text/plain": [
       "array([['Tom_cruise'],\n",
       "       ['Tom_cruise'],\n",
       "       ['Tom_cruise'],\n",
       "       ['Tom_cruise'],\n",
       "       ['Tom_cruise'],\n",
       "       ['Taylor_Swift'],\n",
       "       ['Tom_cruise'],\n",
       "       ['Tom_cruise'],\n",
       "       ['Tom_cruise'],\n",
       "       ['Tom_cruise'],\n",
       "       ['Tom_cruise'],\n",
       "       ['Taylor_Swift'],\n",
       "       ['Tom_cruise'],\n",
       "       ['Tom_cruise'],\n",
       "       ['Tom_cruise'],\n",
       "       ['Tom_cruise'],\n",
       "       ['Taylor_Swift'],\n",
       "       ['Tom_cruise'],\n",
       "       ['Taylor_Swift'],\n",
       "       ['Tom_cruise'],\n",
       "       ['Tom_cruise'],\n",
       "       ['Tom_cruise'],\n",
       "       ['Taylor_Swift'],\n",
       "       ['Taylor_Swift'],\n",
       "       ['Taylor_Swift'],\n",
       "       ['Taylor_Swift'],\n",
       "       ['Taylor_Swift'],\n",
       "       ['Tom_cruise'],\n",
       "       ['Tom_cruise'],\n",
       "       ['Tom_cruise'],\n",
       "       ['Tom_cruise'],\n",
       "       ['Taylor_Swift'],\n",
       "       ['Tom_cruise'],\n",
       "       ['Taylor_Swift'],\n",
       "       ['Taylor_Swift'],\n",
       "       ['Taylor_Swift'],\n",
       "       ['Tom_cruise'],\n",
       "       ['Taylor_Swift'],\n",
       "       ['Tom_cruise'],\n",
       "       ['Tom_cruise']], dtype='<U12')"
      ]
     },
     "execution_count": 44,
     "metadata": {},
     "output_type": "execute_result"
    }
   ],
   "source": [
    "np.where(model.predict(test_data)>0.5,\"Tom_cruise\",\"Taylor_Swift\")\n"
   ]
  },
  {
   "cell_type": "code",
   "execution_count": 43,
   "metadata": {},
   "outputs": [
    {
     "data": {
      "text/plain": [
       "array([['Tom_cruise']], dtype='<U12')"
      ]
     },
     "execution_count": 43,
     "metadata": {},
     "output_type": "execute_result"
    }
   ],
   "source": [
    "image_path=\"./face_data/Train/Tom_Cruise/Tom Cruise102_1026.jpg\"\n",
    "\n",
    "image = tf.keras.preprocessing.image.load_img(image_path,color_mode=\"grayscale\", target_size=(150,150))\n",
    "\n",
    "input_arr = tf.keras.preprocessing.image.img_to_array(image)\n",
    "input_arr = np.array([input_arr])  # Convert single image to a batch.\n",
    "\n",
    "np.where(model.predict(input_arr)>0.5,\"Tom_cruise\",\"Taylor_Swift\")\n"
   ]
  },
  {
   "cell_type": "code",
   "execution_count": 45,
   "metadata": {},
   "outputs": [
    {
     "data": {
      "text/plain": [
       "array([['Taylor_Swift']], dtype='<U12')"
      ]
     },
     "execution_count": 45,
     "metadata": {},
     "output_type": "execute_result"
    }
   ],
   "source": [
    "image_path=\"./face_data/Train/Taylor_Swift/Taylor Swift44_4644.jpg\"\n",
    "\n",
    "image = tf.keras.preprocessing.image.load_img(image_path,color_mode=\"grayscale\", target_size=(150,150))\n",
    "\n",
    "input_arr = tf.keras.preprocessing.image.img_to_array(image)\n",
    "input_arr = np.array([input_arr])  # Convert single image to a batch.\n",
    "\n",
    "np.where(model.predict(input_arr)>0.5,\"Tom_cruise\",\"Taylor_Swift\")"
   ]
  },
  {
   "cell_type": "code",
   "execution_count": 34,
   "metadata": {},
   "outputs": [
    {
     "data": {
      "image/png": "[encoded data removed]",
      "text/plain": [
       "<Figure size 432x288 with 1 Axes>"
      ]
     },
     "metadata": {
      "needs_background": "light"
     },
     "output_type": "display_data"
    },
    {
     "data": {
      "image/png": "[encoded data removed]",
      "text/plain": [
       "<Figure size 432x288 with 1 Axes>"
      ]
     },
     "metadata": {
      "needs_background": "light"
     },
     "output_type": "display_data"
    }
   ],
   "source": [
    "import matplotlib.pyplot as plt\n",
    "acc = hist.history['acc']\n",
    "val_acc = hist.history['val_acc']\n",
    "loss = hist.history['loss']\n",
    "val_loss = hist.history['val_loss']\n",
    "\n",
    "epochs = range(len(acc))\n",
    "\n",
    "plt.plot(epochs, acc, 'bo', label='Training accuracy')\n",
    "plt.plot(epochs, val_acc, 'b', label='Validation accuracy')\n",
    "plt.title('Training and validation accuracy')\n",
    "\n",
    "plt.figure()\n",
    "\n",
    "plt.plot(epochs, loss, 'bo', label='Training Loss')\n",
    "plt.plot(epochs, val_loss, 'b', label='Validation Loss')\n",
    "plt.title('Training and validation loss')\n",
    "plt.legend()\n",
    "\n",
    "plt.show()"
   ]
  },
  {
   "cell_type": "code",
   "execution_count": null,
   "metadata": {},
   "outputs": [],
   "source": []
  },
  {
   "cell_type": "code",
   "execution_count": null,
   "metadata": {},
   "outputs": [],
   "source": []
  }
 ],
 "metadata": {
  "kernelspec": {
   "display_name": "Python 3",
   "language": "python",
   "name": "python3"
  },
  "language_info": {
   "codemirror_mode": {
    "name": "ipython",
    "version": 3
   },
   "file_extension": ".py",
   "mimetype": "text/x-python",
   "name": "python",
   "nbconvert_exporter": "python",
   "pygments_lexer": "ipython3",
   "version": "3.7.5"
  }
 },
 "nbformat": 4,
 "nbformat_minor": 2
}
