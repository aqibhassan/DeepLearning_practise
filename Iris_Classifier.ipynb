{
 "cells": [
  {
   "cell_type": "code",
   "execution_count": 2,
   "metadata": {},
   "outputs": [],
   "source": [
    "from tensorflow.keras.preprocessing.image import ImageDataGenerator\n",
    "import numpy as np\n",
    "import pandas as pd"
   ]
  },
  {
   "cell_type": "code",
   "execution_count": 14,
   "metadata": {},
   "outputs": [
    {
     "data": {
      "text/html": [
       "<div>\n",
       "<style scoped>\n",
       "    .dataframe tbody tr th:only-of-type {\n",
       "        vertical-align: middle;\n",
       "    }\n",
       "\n",
       "    .dataframe tbody tr th {\n",
       "        vertical-align: top;\n",
       "    }\n",
       "\n",
       "    .dataframe thead th {\n",
       "        text-align: right;\n",
       "    }\n",
       "</style>\n",
       "<table border=\"1\" class=\"dataframe\">\n",
       "  <thead>\n",
       "    <tr style=\"text-align: right;\">\n",
       "      <th></th>\n",
       "      <th>Species</th>\n",
       "    </tr>\n",
       "  </thead>\n",
       "  <tbody>\n",
       "    <tr>\n",
       "      <th>0</th>\n",
       "      <td>Iris-setosa</td>\n",
       "    </tr>\n",
       "    <tr>\n",
       "      <th>1</th>\n",
       "      <td>Iris-setosa</td>\n",
       "    </tr>\n",
       "    <tr>\n",
       "      <th>2</th>\n",
       "      <td>Iris-setosa</td>\n",
       "    </tr>\n",
       "    <tr>\n",
       "      <th>3</th>\n",
       "      <td>Iris-setosa</td>\n",
       "    </tr>\n",
       "    <tr>\n",
       "      <th>4</th>\n",
       "      <td>Iris-setosa</td>\n",
       "    </tr>\n",
       "  </tbody>\n",
       "</table>\n",
       "</div>"
      ],
      "text/plain": [
       "       Species\n",
       "0  Iris-setosa\n",
       "1  Iris-setosa\n",
       "2  Iris-setosa\n",
       "3  Iris-setosa\n",
       "4  Iris-setosa"
      ]
     },
     "execution_count": 14,
     "metadata": {},
     "output_type": "execute_result"
    }
   ],
   "source": [
    "df=pd.read_csv(\"./iris_data_set/Iris.csv\")\n",
    "Y=df[[\"Species\"]]\n"
   ]
  },
  {
   "cell_type": "code",
   "execution_count": 7,
   "metadata": {},
   "outputs": [
    {
     "data": {
      "text/html": [
       "<div>\n",
       "<style scoped>\n",
       "    .dataframe tbody tr th:only-of-type {\n",
       "        vertical-align: middle;\n",
       "    }\n",
       "\n",
       "    .dataframe tbody tr th {\n",
       "        vertical-align: top;\n",
       "    }\n",
       "\n",
       "    .dataframe thead th {\n",
       "        text-align: right;\n",
       "    }\n",
       "</style>\n",
       "<table border=\"1\" class=\"dataframe\">\n",
       "  <thead>\n",
       "    <tr style=\"text-align: right;\">\n",
       "      <th></th>\n",
       "      <th>Id</th>\n",
       "      <th>SepalLengthCm</th>\n",
       "      <th>SepalWidthCm</th>\n",
       "      <th>PetalLengthCm</th>\n",
       "      <th>PetalWidthCm</th>\n",
       "    </tr>\n",
       "  </thead>\n",
       "  <tbody>\n",
       "    <tr>\n",
       "      <th>0</th>\n",
       "      <td>1</td>\n",
       "      <td>5.1</td>\n",
       "      <td>3.5</td>\n",
       "      <td>1.4</td>\n",
       "      <td>0.2</td>\n",
       "    </tr>\n",
       "    <tr>\n",
       "      <th>1</th>\n",
       "      <td>2</td>\n",
       "      <td>4.9</td>\n",
       "      <td>3.0</td>\n",
       "      <td>1.4</td>\n",
       "      <td>0.2</td>\n",
       "    </tr>\n",
       "    <tr>\n",
       "      <th>2</th>\n",
       "      <td>3</td>\n",
       "      <td>4.7</td>\n",
       "      <td>3.2</td>\n",
       "      <td>1.3</td>\n",
       "      <td>0.2</td>\n",
       "    </tr>\n",
       "    <tr>\n",
       "      <th>3</th>\n",
       "      <td>4</td>\n",
       "      <td>4.6</td>\n",
       "      <td>3.1</td>\n",
       "      <td>1.5</td>\n",
       "      <td>0.2</td>\n",
       "    </tr>\n",
       "    <tr>\n",
       "      <th>4</th>\n",
       "      <td>5</td>\n",
       "      <td>5.0</td>\n",
       "      <td>3.6</td>\n",
       "      <td>1.4</td>\n",
       "      <td>0.2</td>\n",
       "    </tr>\n",
       "  </tbody>\n",
       "</table>\n",
       "</div>"
      ],
      "text/plain": [
       "   Id  SepalLengthCm  SepalWidthCm  PetalLengthCm  PetalWidthCm\n",
       "0   1            5.1           3.5            1.4           0.2\n",
       "1   2            4.9           3.0            1.4           0.2\n",
       "2   3            4.7           3.2            1.3           0.2\n",
       "3   4            4.6           3.1            1.5           0.2\n",
       "4   5            5.0           3.6            1.4           0.2"
      ]
     },
     "execution_count": 7,
     "metadata": {},
     "output_type": "execute_result"
    }
   ],
   "source": [
    "X=df[[\"Id\",\"SepalLengthCm\",\"SepalWidthCm\",\"PetalLengthCm\",\"PetalWidthCm\"]]"
   ]
  },
  {
   "cell_type": "code",
   "execution_count": 22,
   "metadata": {},
   "outputs": [],
   "source": [
    "Y=pd.get_dummies(Y)"
   ]
  },
  {
   "cell_type": "code",
   "execution_count": 24,
   "metadata": {},
   "outputs": [],
   "source": [
    "msk = np.random.rand(len(df)) < 0.8\n",
    "train_X = X[msk]\n",
    "test_X = X[~msk]\n",
    "train_Y = Y[msk]\n",
    "test_Y = Y[~msk]"
   ]
  },
  {
   "cell_type": "code",
   "execution_count": 17,
   "metadata": {},
   "outputs": [],
   "source": [
    "from tensorflow.keras.models import Sequential\n",
    "from tensorflow.keras.layers import Dense\n",
    "from tensorflow.keras.optimizers import Adam, SGD"
   ]
  },
  {
   "cell_type": "code",
   "execution_count": 26,
   "metadata": {},
   "outputs": [],
   "source": [
    "model = Sequential()\n",
    "model.add(Dense(512, activation='relu', input_shape=(5,)))\n",
    "model.add(Dense(256, activation='relu'))\n",
    "model.add(Dense(128, activation='relu'))\n",
    "model.add(Dense(32, activation='relu'))\n",
    "model.add(Dense(3, activation='softmax'))"
   ]
  },
  {
   "cell_type": "code",
   "execution_count": 27,
   "metadata": {},
   "outputs": [
    {
     "name": "stdout",
     "output_type": "stream",
     "text": [
      "Model: \"sequential_1\"\n",
      "_________________________________________________________________\n",
      "Layer (type)                 Output Shape              Param #   \n",
      "=================================================================\n",
      "dense_3 (Dense)              (None, 512)               3072      \n",
      "_________________________________________________________________\n",
      "dense_4 (Dense)              (None, 256)               131328    \n",
      "_________________________________________________________________\n",
      "dense_5 (Dense)              (None, 128)               32896     \n",
      "_________________________________________________________________\n",
      "dense_6 (Dense)              (None, 32)                4128      \n",
      "_________________________________________________________________\n",
      "dense_7 (Dense)              (None, 3)                 99        \n",
      "=================================================================\n",
      "Total params: 171,523\n",
      "Trainable params: 171,523\n",
      "Non-trainable params: 0\n",
      "_________________________________________________________________\n"
     ]
    }
   ],
   "source": [
    "\n",
    "model.summary()\n"
   ]
  },
  {
   "cell_type": "code",
   "execution_count": 28,
   "metadata": {},
   "outputs": [],
   "source": [
    "model.compile(optimizer=SGD(lr=0.001),\n",
    "             loss='categorical_crossentropy',\n",
    "             metrics=['acc'])"
   ]
  },
  {
   "cell_type": "code",
   "execution_count": 29,
   "metadata": {},
   "outputs": [
    {
     "name": "stdout",
     "output_type": "stream",
     "text": [
      "Train on 123 samples\n",
      "Epoch 1/30\n",
      "123/123 [==============================] - 0s 1ms/sample - loss: 1.6254 - acc: 0.2846\n",
      "Epoch 2/30\n",
      "123/123 [==============================] - 0s 300us/sample - loss: 1.1893 - acc: 0.3659\n",
      "Epoch 3/30\n",
      "123/123 [==============================] - 0s 260us/sample - loss: 0.9131 - acc: 0.4472\n",
      "Epoch 4/30\n",
      "123/123 [==============================] - 0s 228us/sample - loss: 0.8762 - acc: 0.5122\n",
      "Epoch 5/30\n",
      "123/123 [==============================] - 0s 260us/sample - loss: 0.9561 - acc: 0.5528\n",
      "Epoch 6/30\n",
      "123/123 [==============================] - 0s 244us/sample - loss: 1.1665 - acc: 0.4228\n",
      "Epoch 7/30\n",
      "123/123 [==============================] - 0s 277us/sample - loss: 1.4955 - acc: 0.3821\n",
      "Epoch 8/30\n",
      "123/123 [==============================] - 0s 260us/sample - loss: 0.9221 - acc: 0.4715\n",
      "Epoch 9/30\n",
      "123/123 [==============================] - 0s 212us/sample - loss: 0.9987 - acc: 0.5285\n",
      "Epoch 10/30\n",
      "123/123 [==============================] - 0s 294us/sample - loss: 1.2567 - acc: 0.4715\n",
      "Epoch 11/30\n",
      "123/123 [==============================] - 0s 272us/sample - loss: 0.9446 - acc: 0.5447\n",
      "Epoch 12/30\n",
      "123/123 [==============================] - 0s 212us/sample - loss: 1.2238 - acc: 0.4634\n",
      "Epoch 13/30\n",
      "123/123 [==============================] - 0s 325us/sample - loss: 1.0145 - acc: 0.4878\n",
      "Epoch 14/30\n",
      "123/123 [==============================] - 0s 310us/sample - loss: 1.1469 - acc: 0.4797\n",
      "Epoch 15/30\n",
      "123/123 [==============================] - 0s 277us/sample - loss: 1.1486 - acc: 0.4065\n",
      "Epoch 16/30\n",
      "123/123 [==============================] - 0s 260us/sample - loss: 0.9578 - acc: 0.5122\n",
      "Epoch 17/30\n",
      "123/123 [==============================] - 0s 218us/sample - loss: 1.1094 - acc: 0.4553\n",
      "Epoch 18/30\n",
      "123/123 [==============================] - 0s 423us/sample - loss: 1.0285 - acc: 0.5203\n",
      "Epoch 19/30\n",
      "123/123 [==============================] - 0s 222us/sample - loss: 1.0806 - acc: 0.4472\n",
      "Epoch 20/30\n",
      "123/123 [==============================] - 0s 238us/sample - loss: 0.8733 - acc: 0.5528\n",
      "Epoch 21/30\n",
      "123/123 [==============================] - 0s 390us/sample - loss: 1.1380 - acc: 0.4472\n",
      "Epoch 22/30\n",
      "123/123 [==============================] - 0s 249us/sample - loss: 0.9620 - acc: 0.5203\n",
      "Epoch 23/30\n",
      "123/123 [==============================] - 0s 260us/sample - loss: 0.9737 - acc: 0.5041\n",
      "Epoch 24/30\n",
      "123/123 [==============================] - 0s 293us/sample - loss: 0.9214 - acc: 0.5041\n",
      "Epoch 25/30\n",
      "123/123 [==============================] - 0s 260us/sample - loss: 0.8157 - acc: 0.5691\n",
      "Epoch 26/30\n",
      "123/123 [==============================] - 0s 228us/sample - loss: 0.7852 - acc: 0.6585\n",
      "Epoch 27/30\n",
      "123/123 [==============================] - ETA: 0s - loss: 0.8910 - acc: 0.406 - 0s 293us/sample - loss: 0.7734 - acc: 0.5854\n",
      "Epoch 28/30\n",
      "123/123 [==============================] - 0s 293us/sample - loss: 1.0406 - acc: 0.4797\n",
      "Epoch 29/30\n",
      "123/123 [==============================] - 0s 228us/sample - loss: 0.9684 - acc: 0.5366\n",
      "Epoch 30/30\n",
      "123/123 [==============================] - 0s 293us/sample - loss: 0.8054 - acc: 0.6504\n"
     ]
    },
    {
     "data": {
      "text/plain": [
       "<tensorflow.python.keras.callbacks.History at 0x1eca50bdbc8>"
      ]
     },
     "execution_count": 29,
     "metadata": {},
     "output_type": "execute_result"
    }
   ],
   "source": [
    "\n",
    "model.fit(train_X,train_Y, epochs=30)"
   ]
  },
  {
   "cell_type": "code",
   "execution_count": null,
   "metadata": {},
   "outputs": [],
   "source": []
  }
 ],
 "metadata": {
  "kernelspec": {
   "display_name": "Python 3",
   "language": "python",
   "name": "python3"
  },
  "language_info": {
   "codemirror_mode": {
    "name": "ipython",
    "version": 3
   },
   "file_extension": ".py",
   "mimetype": "text/x-python",
   "name": "python",
   "nbconvert_exporter": "python",
   "pygments_lexer": "ipython3",
   "version": "3.7.5"
  }
 },
 "nbformat": 4,
 "nbformat_minor": 2
}
